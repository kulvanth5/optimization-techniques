{
  "cells": [
    {
      "cell_type": "markdown",
      "metadata": {
        "id": "view-in-github",
        "colab_type": "text"
      },
      "source": [
        "<a href=\"https://colab.research.google.com/github/kulvanth5/optimization-techniques/blob/main/Copy_of_Welcome_To_Colaboratory.ipynb\" target=\"_parent\"><img src=\"https://colab.research.google.com/assets/colab-badge.svg\" alt=\"Open In Colab\"/></a>"
      ]
    },
    {
      "cell_type": "code",
      "source": [
        "import numpy as np\n",
        "\n",
        "# a simple way to create a multi-dimensional array\n",
        "a = np.array([[[1,2,3],[4,5,6]],[[7,8,9],[10,11,12]]])\n",
        "\n",
        "a"
      ],
      "metadata": {
        "id": "w5X4W1qPAncp",
        "outputId": "960051cc-0d17-4378-e72d-485480cafe4c",
        "colab": {
          "base_uri": "https://localhost:8080/"
        }
      },
      "execution_count": null,
      "outputs": [
        {
          "output_type": "execute_result",
          "data": {
            "text/plain": [
              "array([[[ 1,  2,  3],\n",
              "        [ 4,  5,  6]],\n",
              "\n",
              "       [[ 7,  8,  9],\n",
              "        [10, 11, 12]]])"
            ]
          },
          "metadata": {},
          "execution_count": 64
        }
      ]
    },
    {
      "cell_type": "code",
      "source": [
        "#will create a matrix with specified dimensions with all the values of it as zeros\n",
        "b = np.zeros((3,3),dtype=complex)\n",
        "\n",
        "b"
      ],
      "metadata": {
        "id": "_wgHctN-BCLN",
        "outputId": "d25351a8-a41b-46ef-e512-5e7cbbced085",
        "colab": {
          "base_uri": "https://localhost:8080/"
        }
      },
      "execution_count": null,
      "outputs": [
        {
          "output_type": "execute_result",
          "data": {
            "text/plain": [
              "array([[0.+0.j, 0.+0.j, 0.+0.j],\n",
              "       [0.+0.j, 0.+0.j, 0.+0.j],\n",
              "       [0.+0.j, 0.+0.j, 0.+0.j]])"
            ]
          },
          "metadata": {},
          "execution_count": 28
        }
      ]
    },
    {
      "cell_type": "code",
      "source": [
        "# in addition to arange , also allows us to specify no.of values to be inserted into the matrix\n",
        "\n",
        "# reshape is used to give a view of an ndim array in some other dim rather than converting it\n",
        "# resize is used to convert existing array into some other specified dim\n",
        "np.linspace(1,30,9,dtype=int).reshape(3,3)"
      ],
      "metadata": {
        "id": "b8oneHHRBKyY",
        "outputId": "f6a8166d-2bb0-4df5-a475-c47fa797b87a",
        "colab": {
          "base_uri": "https://localhost:8080/"
        }
      },
      "execution_count": null,
      "outputs": [
        {
          "output_type": "execute_result",
          "data": {
            "text/plain": [
              "array([[ 1,  4,  8],\n",
              "       [11, 15, 19],\n",
              "       [22, 26, 30]])"
            ]
          },
          "metadata": {},
          "execution_count": 40
        }
      ]
    },
    {
      "cell_type": "code",
      "source": [
        "def f(i,j):\n",
        "  return i+j\n",
        "\n",
        "# create a new matrix with values based on the definition of a function\n",
        "new = np.fromfunction(f,(3,3))\n",
        "\n",
        "new"
      ],
      "metadata": {
        "id": "V-u-cH9bClH8",
        "outputId": "c7a607cb-cfec-4f21-d339-024e5c67dca7",
        "colab": {
          "base_uri": "https://localhost:8080/"
        }
      },
      "execution_count": null,
      "outputs": [
        {
          "output_type": "execute_result",
          "data": {
            "text/plain": [
              "array([[0., 1., 2.],\n",
              "       [1., 2., 3.],\n",
              "       [2., 3., 4.]])"
            ]
          },
          "metadata": {},
          "execution_count": 85
        }
      ]
    },
    {
      "cell_type": "code",
      "source": [
        "# new.shape will print the dimension of the marix\n",
        "# new.ndim will print how many dimensions does the matrix has\n",
        "print(new.ndim,new.shape)"
      ],
      "metadata": {
        "id": "TVEt9I7LC5S5",
        "outputId": "a530f1f1-4e58-44a7-a39d-89791a55a060",
        "colab": {
          "base_uri": "https://localhost:8080/"
        }
      },
      "execution_count": null,
      "outputs": [
        {
          "output_type": "stream",
          "name": "stdout",
          "text": [
            "3 (3, 3, 3)\n"
          ]
        }
      ]
    },
    {
      "cell_type": "code",
      "source": [
        "# multiplication of two matrices\n",
        "np.matmul(new,b)"
      ],
      "metadata": {
        "id": "wvSH8wb1D5Xi",
        "outputId": "4d37e608-96c4-4293-99b4-20b716ced080",
        "colab": {
          "base_uri": "https://localhost:8080/"
        }
      },
      "execution_count": null,
      "outputs": [
        {
          "output_type": "execute_result",
          "data": {
            "text/plain": [
              "array([[[0.+0.j, 0.+0.j, 0.+0.j],\n",
              "        [0.+0.j, 0.+0.j, 0.+0.j],\n",
              "        [0.+0.j, 0.+0.j, 0.+0.j]],\n",
              "\n",
              "       [[0.+0.j, 0.+0.j, 0.+0.j],\n",
              "        [0.+0.j, 0.+0.j, 0.+0.j],\n",
              "        [0.+0.j, 0.+0.j, 0.+0.j]],\n",
              "\n",
              "       [[0.+0.j, 0.+0.j, 0.+0.j],\n",
              "        [0.+0.j, 0.+0.j, 0.+0.j],\n",
              "        [0.+0.j, 0.+0.j, 0.+0.j]]])"
            ]
          },
          "metadata": {},
          "execution_count": 29
        }
      ]
    },
    {
      "cell_type": "code",
      "source": [
        "# checks for each value of the matrix and generates a new one\n",
        "new < 5"
      ],
      "metadata": {
        "id": "ZMPb0CNhEhSW",
        "outputId": "c38d51dd-6c53-4ee5-8c00-c7056c5f68d2",
        "colab": {
          "base_uri": "https://localhost:8080/"
        }
      },
      "execution_count": null,
      "outputs": [
        {
          "output_type": "execute_result",
          "data": {
            "text/plain": [
              "array([[[ True,  True,  True],\n",
              "        [ True,  True,  True],\n",
              "        [ True,  True,  True]],\n",
              "\n",
              "       [[ True,  True,  True],\n",
              "        [ True,  True,  True],\n",
              "        [ True,  True, False]],\n",
              "\n",
              "       [[ True,  True,  True],\n",
              "        [ True,  True, False],\n",
              "        [ True, False, False]]])"
            ]
          },
          "metadata": {},
          "execution_count": 32
        }
      ]
    },
    {
      "cell_type": "code",
      "source": [
        "# np.nan is a special value that represents a \"Not a Number\"\n",
        "# np.inf represents infinity\n",
        "\n",
        "#converts an ndim array to 1dim array\n",
        "new.flatten()\n",
        "\n",
        "#just gives a view of ndim array in 1dim rather than converting it\n",
        "new.ravel()"
      ],
      "metadata": {
        "id": "WzOMddd7GUad",
        "outputId": "86cb621d-c6de-41cc-cf3f-e99ca1cc233b",
        "colab": {
          "base_uri": "https://localhost:8080/"
        }
      },
      "execution_count": null,
      "outputs": [
        {
          "output_type": "execute_result",
          "data": {
            "text/plain": [
              "array([0., 1., 2., 1., 2., 3., 2., 3., 4., 1., 2., 3., 2., 3., 4., 3., 4.,\n",
              "       5., 2., 3., 4., 3., 4., 5., 4., 5., 6.])"
            ]
          },
          "metadata": {},
          "execution_count": 44
        }
      ]
    },
    {
      "cell_type": "code",
      "source": [
        "#to transpose a matrix\n",
        "a.transpose()\n",
        "\n",
        "#to align all the rows horizontally , similarly vstack to align all the rows vertically\n",
        "np.hstack(new)"
      ],
      "metadata": {
        "id": "sz5yhoEIG3Fn",
        "outputId": "174837c8-c6dd-4adb-8e22-50b70cfc8b8c",
        "colab": {
          "base_uri": "https://localhost:8080/"
        }
      },
      "execution_count": null,
      "outputs": [
        {
          "output_type": "execute_result",
          "data": {
            "text/plain": [
              "array([0., 1., 2., 1., 2., 3., 2., 3., 4., 1., 2., 3., 2., 3., 4., 3., 4.,\n",
              "       5., 2., 3., 4., 3., 4., 5., 4., 5., 6.])"
            ]
          },
          "metadata": {},
          "execution_count": 61
        }
      ]
    },
    {
      "cell_type": "code",
      "source": [
        "#indexing in array\n",
        "a[0,1,2]\n",
        "\n",
        "#slicing in an ndim array\n",
        "a[0:1:1]"
      ],
      "metadata": {
        "id": "bvY0NbHKJMLE",
        "outputId": "ab7919eb-6d64-4459-ad47-9fe05475d2a1",
        "colab": {
          "base_uri": "https://localhost:8080/"
        }
      },
      "execution_count": null,
      "outputs": [
        {
          "output_type": "execute_result",
          "data": {
            "text/plain": [
              "array([[[1, 2, 3],\n",
              "        [4, 5, 6]]])"
            ]
          },
          "metadata": {},
          "execution_count": 76
        }
      ]
    },
    {
      "cell_type": "code",
      "source": [
        "#we can add a scalar to all the elements of an array\n",
        "b=b+3-1j\n",
        "\n",
        "temp = np.fromfunction(f,(3,3))\n",
        "\n",
        "temp + b\n"
      ],
      "metadata": {
        "id": "lQ5Qq9mEKhDU",
        "outputId": "db44fa0c-9e81-433c-86b5-9651ea775104",
        "colab": {
          "base_uri": "https://localhost:8080/"
        }
      },
      "execution_count": null,
      "outputs": [
        {
          "output_type": "execute_result",
          "data": {
            "text/plain": [
              "array([[3.-1.j, 4.-1.j, 5.-1.j],\n",
              "       [4.-1.j, 5.-1.j, 6.-1.j],\n",
              "       [5.-1.j, 6.-1.j, 7.-1.j]])"
            ]
          },
          "metadata": {},
          "execution_count": 87
        }
      ]
    },
    {
      "cell_type": "code",
      "source": [
        "#will return the index of element with maximum value in the array\n",
        "np.argmax(a)\n",
        "\n",
        "#will return the index of element with minimum value in the array\n",
        "np.argmin(a)\n",
        "\n",
        "#will return the min value of each column , for axis=1 returns the min value of each row. Similarly for max as well\n",
        "new.min(axis=0)"
      ],
      "metadata": {
        "id": "8V2gNGlHUkw3",
        "outputId": "203afeca-6cea-48b9-b651-f338c2a0a5fe",
        "colab": {
          "base_uri": "https://localhost:8080/"
        }
      },
      "execution_count": null,
      "outputs": [
        {
          "output_type": "execute_result",
          "data": {
            "text/plain": [
              "array([0., 1., 2.])"
            ]
          },
          "metadata": {},
          "execution_count": 99
        }
      ]
    },
    {
      "cell_type": "code",
      "source": [
        "x = np.array([[22,-54,2345],[-589,77,0],[52,-798,99]])\n",
        "\n",
        "#for 2d array , by default sorts the array row wise\n",
        "x.sort()\n",
        "\n",
        "#sorts the array column wise\n",
        "x.sort(axis=0)\n",
        "\n",
        "x"
      ],
      "metadata": {
        "id": "_xVVzkL-WuaY",
        "outputId": "02402e30-85a4-4f8e-bc4c-7e54c8ea59fc",
        "colab": {
          "base_uri": "https://localhost:8080/"
        }
      },
      "execution_count": null,
      "outputs": [
        {
          "output_type": "execute_result",
          "data": {
            "text/plain": [
              "array([[-798,    0,   77],\n",
              "       [-589,   22,   99],\n",
              "       [ -54,   52, 2345]])"
            ]
          },
          "metadata": {},
          "execution_count": 105
        }
      ]
    }
  ],
  "metadata": {
    "colab": {
      "provenance": [],
      "include_colab_link": true
    },
    "kernelspec": {
      "display_name": "Python 3",
      "name": "python3"
    }
  },
  "nbformat": 4,
  "nbformat_minor": 0
}
